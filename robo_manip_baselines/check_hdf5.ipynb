{
 "cells": [
  {
   "cell_type": "code",
   "execution_count": null,
   "id": "d15cc5e4",
   "metadata": {},
   "outputs": [
    {
     "ename": "FileNotFoundError",
     "evalue": "[Errno 2] Unable to synchronously open file (unable to open file: name = 'robo_manip_baselines/dataset/RolloutPpo_RealXarm7Demo_20250929_103137/RealXarm7Demo_world0_000.rmb/main.rmb.hdf5', errno = 2, error message = 'No such file or directory', flags = 0, o_flags = 0)",
     "output_type": "error",
     "traceback": [
      "\u001b[0;31m---------------------------------------------------------------------------\u001b[0m",
      "\u001b[0;31mFileNotFoundError\u001b[0m                         Traceback (most recent call last)",
      "Cell \u001b[0;32mIn[3], line 12\u001b[0m\n\u001b[1;32m      3\u001b[0m \u001b[38;5;66;03m#rollout path\u001b[39;00m\n\u001b[1;32m      4\u001b[0m \u001b[38;5;66;03m#path = \"./dataset/RolloutMlp_RealXarm7Demo_20250922_171722/RealXarm7Demo_world0_000.rmb/main.rmb.hdf5\"\u001b[39;00m\n\u001b[1;32m      5\u001b[0m \n\u001b[1;32m      6\u001b[0m \n\u001b[1;32m      7\u001b[0m \u001b[38;5;66;03m#teleop success path\u001b[39;00m\n\u001b[1;32m      8\u001b[0m \u001b[38;5;66;03m#path = \"./dataset/RealXarm7Demo_20250922_161302/RealXarm7Demo_world0_002.rmb/main.rmb.hdf5\"\u001b[39;00m\n\u001b[1;32m     10\u001b[0m path \u001b[38;5;241m=\u001b[39m \u001b[38;5;124m\"\u001b[39m\u001b[38;5;124mrobo_manip_baselines/dataset/RolloutPpo_RealXarm7Demo_20250929_103137/RealXarm7Demo_world0_000.rmb/main.rmb.hdf5\u001b[39m\u001b[38;5;124m\"\u001b[39m\n\u001b[0;32m---> 12\u001b[0m \u001b[38;5;28;01mwith\u001b[39;00m \u001b[43mh5py\u001b[49m\u001b[38;5;241;43m.\u001b[39;49m\u001b[43mFile\u001b[49m\u001b[43m(\u001b[49m\u001b[43mpath\u001b[49m\u001b[43m,\u001b[49m\u001b[43m \u001b[49m\u001b[38;5;124;43m\"\u001b[39;49m\u001b[38;5;124;43mr\u001b[39;49m\u001b[38;5;124;43m\"\u001b[39;49m\u001b[43m)\u001b[49m \u001b[38;5;28;01mas\u001b[39;00m f:\n\u001b[1;32m     13\u001b[0m     \u001b[38;5;66;03m# 全データセット一覧\u001b[39;00m\n\u001b[1;32m     14\u001b[0m     \u001b[38;5;28mprint\u001b[39m(\u001b[38;5;124m\"\u001b[39m\u001b[38;5;124mDatasets:\u001b[39m\u001b[38;5;124m\"\u001b[39m, \u001b[38;5;28mlist\u001b[39m(f\u001b[38;5;241m.\u001b[39mkeys()))\n\u001b[1;32m     16\u001b[0m     \u001b[38;5;66;03m# 例: time を読み込み\u001b[39;00m\n",
      "File \u001b[0;32m~/miniconda3/envs/robo_env/lib/python3.10/site-packages/h5py/_hl/files.py:564\u001b[0m, in \u001b[0;36mFile.__init__\u001b[0;34m(self, name, mode, driver, libver, userblock_size, swmr, rdcc_nslots, rdcc_nbytes, rdcc_w0, track_order, fs_strategy, fs_persist, fs_threshold, fs_page_size, page_buf_size, min_meta_keep, min_raw_keep, locking, alignment_threshold, alignment_interval, meta_block_size, **kwds)\u001b[0m\n\u001b[1;32m    555\u001b[0m     fapl \u001b[38;5;241m=\u001b[39m make_fapl(driver, libver, rdcc_nslots, rdcc_nbytes, rdcc_w0,\n\u001b[1;32m    556\u001b[0m                      locking, page_buf_size, min_meta_keep, min_raw_keep,\n\u001b[1;32m    557\u001b[0m                      alignment_threshold\u001b[38;5;241m=\u001b[39malignment_threshold,\n\u001b[1;32m    558\u001b[0m                      alignment_interval\u001b[38;5;241m=\u001b[39malignment_interval,\n\u001b[1;32m    559\u001b[0m                      meta_block_size\u001b[38;5;241m=\u001b[39mmeta_block_size,\n\u001b[1;32m    560\u001b[0m                      \u001b[38;5;241m*\u001b[39m\u001b[38;5;241m*\u001b[39mkwds)\n\u001b[1;32m    561\u001b[0m     fcpl \u001b[38;5;241m=\u001b[39m make_fcpl(track_order\u001b[38;5;241m=\u001b[39mtrack_order, fs_strategy\u001b[38;5;241m=\u001b[39mfs_strategy,\n\u001b[1;32m    562\u001b[0m                      fs_persist\u001b[38;5;241m=\u001b[39mfs_persist, fs_threshold\u001b[38;5;241m=\u001b[39mfs_threshold,\n\u001b[1;32m    563\u001b[0m                      fs_page_size\u001b[38;5;241m=\u001b[39mfs_page_size)\n\u001b[0;32m--> 564\u001b[0m     fid \u001b[38;5;241m=\u001b[39m \u001b[43mmake_fid\u001b[49m\u001b[43m(\u001b[49m\u001b[43mname\u001b[49m\u001b[43m,\u001b[49m\u001b[43m \u001b[49m\u001b[43mmode\u001b[49m\u001b[43m,\u001b[49m\u001b[43m \u001b[49m\u001b[43muserblock_size\u001b[49m\u001b[43m,\u001b[49m\u001b[43m \u001b[49m\u001b[43mfapl\u001b[49m\u001b[43m,\u001b[49m\u001b[43m \u001b[49m\u001b[43mfcpl\u001b[49m\u001b[43m,\u001b[49m\u001b[43m \u001b[49m\u001b[43mswmr\u001b[49m\u001b[38;5;241;43m=\u001b[39;49m\u001b[43mswmr\u001b[49m\u001b[43m)\u001b[49m\n\u001b[1;32m    566\u001b[0m \u001b[38;5;28;01mif\u001b[39;00m \u001b[38;5;28misinstance\u001b[39m(libver, \u001b[38;5;28mtuple\u001b[39m):\n\u001b[1;32m    567\u001b[0m     \u001b[38;5;28mself\u001b[39m\u001b[38;5;241m.\u001b[39m_libver \u001b[38;5;241m=\u001b[39m libver\n",
      "File \u001b[0;32m~/miniconda3/envs/robo_env/lib/python3.10/site-packages/h5py/_hl/files.py:238\u001b[0m, in \u001b[0;36mmake_fid\u001b[0;34m(name, mode, userblock_size, fapl, fcpl, swmr)\u001b[0m\n\u001b[1;32m    236\u001b[0m     \u001b[38;5;28;01mif\u001b[39;00m swmr \u001b[38;5;129;01mand\u001b[39;00m swmr_support:\n\u001b[1;32m    237\u001b[0m         flags \u001b[38;5;241m|\u001b[39m\u001b[38;5;241m=\u001b[39m h5f\u001b[38;5;241m.\u001b[39mACC_SWMR_READ\n\u001b[0;32m--> 238\u001b[0m     fid \u001b[38;5;241m=\u001b[39m \u001b[43mh5f\u001b[49m\u001b[38;5;241;43m.\u001b[39;49m\u001b[43mopen\u001b[49m\u001b[43m(\u001b[49m\u001b[43mname\u001b[49m\u001b[43m,\u001b[49m\u001b[43m \u001b[49m\u001b[43mflags\u001b[49m\u001b[43m,\u001b[49m\u001b[43m \u001b[49m\u001b[43mfapl\u001b[49m\u001b[38;5;241;43m=\u001b[39;49m\u001b[43mfapl\u001b[49m\u001b[43m)\u001b[49m\n\u001b[1;32m    239\u001b[0m \u001b[38;5;28;01melif\u001b[39;00m mode \u001b[38;5;241m==\u001b[39m \u001b[38;5;124m'\u001b[39m\u001b[38;5;124mr+\u001b[39m\u001b[38;5;124m'\u001b[39m:\n\u001b[1;32m    240\u001b[0m     fid \u001b[38;5;241m=\u001b[39m h5f\u001b[38;5;241m.\u001b[39mopen(name, h5f\u001b[38;5;241m.\u001b[39mACC_RDWR, fapl\u001b[38;5;241m=\u001b[39mfapl)\n",
      "File \u001b[0;32mh5py/_objects.pyx:56\u001b[0m, in \u001b[0;36mh5py._objects.with_phil.wrapper\u001b[0;34m()\u001b[0m\n",
      "File \u001b[0;32mh5py/_objects.pyx:57\u001b[0m, in \u001b[0;36mh5py._objects.with_phil.wrapper\u001b[0;34m()\u001b[0m\n",
      "File \u001b[0;32mh5py/h5f.pyx:102\u001b[0m, in \u001b[0;36mh5py.h5f.open\u001b[0;34m()\u001b[0m\n",
      "\u001b[0;31mFileNotFoundError\u001b[0m: [Errno 2] Unable to synchronously open file (unable to open file: name = 'robo_manip_baselines/dataset/RolloutPpo_RealXarm7Demo_20250929_103137/RealXarm7Demo_world0_000.rmb/main.rmb.hdf5', errno = 2, error message = 'No such file or directory', flags = 0, o_flags = 0)"
     ]
    }
   ],
   "source": [
    "import h5py\n",
    "\n",
    "#rollout path\n",
    "#path = \"./dataset/RolloutMlp_RealXarm7Demo_20250922_171722/RealXarm7Demo_world0_000.rmb/main.rmb.hdf5\"\n",
    "\n",
    "\n",
    "#teleop success path\n",
    "#path = \"./dataset/RealXarm7Demo_20250922_161302/RealXarm7Demo_world0_002.rmb/main.rmb.hdf5\"\n",
    "\n",
    "path = \"./dataset/RolloutPpo_RealXarm7Demo_20250929_103137/RealXarm7Demo_world0_000.rmb/main.rmb.hdf5\"\n",
    "\n",
    "with h5py.File(path, \"r\") as f:\n",
    "    # 全データセット一覧\n",
    "    print(\"Datasets:\", list(f.keys()))\n",
    "\n",
    "    # 例: time を読み込み\n",
    "    time = f[\"time\"][:]\n",
    "    print(\"time shape:\", time.shape)\n",
    "    print(\"time[:10] =\", time[:10])\n",
    "\n",
    "    # measured_eef_pose (x, y, z, qx, qy, qz, qw) の例\n",
    "    pose = f[\"measured_eef_pose\"][:]\n",
    "    print(\"pose shape:\", pose.shape)\n",
    "    print(\"pose[0] =\", pose[0])\n",
    "\n",
    "    #measured_eef_pose = f[\"measured_eef_pose\"]\n",
    "    #print(\"measured_eef_pose: \", measured_eef_pose[:])\n",
    "\n",
    "\n",
    "    measured_joint_pos = f[\"measured_joint_pos\"][:]\n",
    "    print(\"measured_joint_pos: \", measured_joint_pos[:])\n",
    "    command_joint_pos = f[\"command_joint_pos\"][:]\n",
    "    \n",
    "\n",
    "    measured_gripper_joint_pos = f[\"measured_gripper_joint_pos\"]\n",
    "    print(\"measured_gripper_joint_pos: \", measured_gripper_joint_pos[:])\n",
    "    \n"
   ]
  },
  {
   "cell_type": "code",
   "execution_count": null,
   "id": "90360cd8",
   "metadata": {},
   "outputs": [],
   "source": [
    "import h5py\n",
    "\n",
    "path = \"./dataset/RolloutMlp_RealXarm7Demo_20250922_171722/RealXarm7Demo_world0_000.rmb/main.rmb.hdf5\"\n",
    "\n",
    "with h5py.File(path, \"r\") as f:\n",
    "    print(\"=== Datasets in file ===\")\n",
    "    for key in f.keys():\n",
    "        arr = f[key]\n",
    "        print(f\"{key:30s} shape={arr.shape}, dtype={arr.dtype}\")\n"
   ]
  },
  {
   "cell_type": "code",
   "execution_count": null,
   "id": "ead9a441",
   "metadata": {},
   "outputs": [],
   "source": [
    "import h5py\n",
    "\n",
    "path = \"./dataset/RolloutMlp_RealXarm7Demo_20250922_171722/RealXarm7Demo_world0_000.rmb/main.rmb.hdf5\"\n",
    "\n",
    "with h5py.File(path, \"r\") as f:\n",
    "    # 全データセット一覧\n",
    "    print(\"Datasets:\", list(f.keys()))\n",
    "\n",
    "    # 例: time を読み込み\n",
    "    time = f[\"time\"][:]\n",
    "    print(\"time shape:\", time.shape)\n",
    "    print(\"time[:10] =\", time[:10])\n",
    "\n",
    "    # measured_eef_pose (x, y, z, qx, qy, qz, qw) の例\n",
    "    pose = f[\"measured_eef_pose\"][:]\n",
    "    print(\"pose shape:\", pose.shape)\n",
    "    print(\"pose[0] =\", pose[0])\n",
    "\n",
    "    measured_eef_pose = f[\"measured_eef_pose\"]\n",
    "    print(\"measured_eef_pose: \", measured_eef_pose[:])\n",
    "\n",
    "\n",
    "    measured_joint_pos = f[\"measured_joint_pos\"]\n",
    "    print(\"measured_joint_pos: \", measured_joint_pos[:])\n",
    "    \n",
    "\n",
    "    measured_gripper_joint_pos = f[\"measured_gripper_joint_pos\"]\n",
    "    print(\"measured_gripper_joint_pos: \", measured_gripper_joint_pos[:])\n",
    "    \n",
    "\n"
   ]
  },
  {
   "cell_type": "code",
   "execution_count": null,
   "id": "60ae3b8b",
   "metadata": {},
   "outputs": [],
   "source": [
    "import matplotlib.pyplot as plt\n",
    "\n",
    "# measured_joint_pos, command_joint_pos は shape (T, 8) の2次元配列を想定\n",
    "num_joints = measured_joint_pos.shape[1]\n",
    "\n",
    "for j in range(num_joints):\n",
    "    plt.figure(figsize=(8, 4))\n",
    "    plt.plot(measured_joint_pos[:, j], label=\"Measured\", linewidth=1.5)\n",
    "    plt.plot(command_joint_pos[:, j], label=\"Command\", linestyle=\"--\", linewidth=1.5)\n",
    "    plt.title(f\"Joint {j}\")\n",
    "    plt.xlabel(\"Time step\")\n",
    "    plt.ylabel(\"Joint Position\")\n",
    "    plt.legend()\n",
    "    plt.grid(True)\n",
    "    plt.show()\n"
   ]
  },
  {
   "cell_type": "code",
   "execution_count": null,
   "id": "21c4078c",
   "metadata": {},
   "outputs": [],
   "source": []
  }
 ],
 "metadata": {
  "kernelspec": {
   "display_name": "robo_env",
   "language": "python",
   "name": "python3"
  },
  "language_info": {
   "codemirror_mode": {
    "name": "ipython",
    "version": 3
   },
   "file_extension": ".py",
   "mimetype": "text/x-python",
   "name": "python",
   "nbconvert_exporter": "python",
   "pygments_lexer": "ipython3",
   "version": "3.10.18"
  }
 },
 "nbformat": 4,
 "nbformat_minor": 5
}

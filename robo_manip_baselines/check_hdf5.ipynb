{
 "cells": [
  {
   "cell_type": "code",
   "execution_count": null,
   "id": "d15cc5e4",
   "metadata": {},
   "outputs": [],
   "source": [
    "import h5py\n",
    "\n",
    "#rollout path\n",
    "path = \"./dataset/RolloutMlp_RealXarm7Demo_20250922_171722/RealXarm7Demo_world0_000.rmb/main.rmb.hdf5\"\n",
    "\n",
    "\n",
    "#teleop success path\n",
    "#path = \"./dataset/RealXarm7Demo_20250922_161302/RealXarm7Demo_world0_002.rmb/main.rmb.hdf5\"\n",
    "\n",
    "with h5py.File(path, \"r\") as f:\n",
    "    # 全データセット一覧\n",
    "    print(\"Datasets:\", list(f.keys()))\n",
    "\n",
    "    # 例: time を読み込み\n",
    "    time = f[\"time\"][:]\n",
    "    print(\"time shape:\", time.shape)\n",
    "    print(\"time[:10] =\", time[:10])\n",
    "\n",
    "    # measured_eef_pose (x, y, z, qx, qy, qz, qw) の例\n",
    "    pose = f[\"measured_eef_pose\"][:]\n",
    "    print(\"pose shape:\", pose.shape)\n",
    "    print(\"pose[0] =\", pose[0])\n",
    "\n",
    "    #measured_eef_pose = f[\"measured_eef_pose\"]\n",
    "    #print(\"measured_eef_pose: \", measured_eef_pose[:])\n",
    "\n",
    "\n",
    "    measured_joint_pos = f[\"measured_joint_pos\"][:]\n",
    "    print(\"measured_joint_pos: \", measured_joint_pos[:])\n",
    "    command_joint_pos = f[\"command_joint_pos\"][:]\n",
    "    \n",
    "\n",
    "    measured_gripper_joint_pos = f[\"measured_gripper_joint_pos\"]\n",
    "    print(\"measured_gripper_joint_pos: \", measured_gripper_joint_pos[:])\n",
    "    \n"
   ]
  },
  {
   "cell_type": "code",
   "execution_count": null,
   "id": "90360cd8",
   "metadata": {},
   "outputs": [],
   "source": [
    "import h5py\n",
    "\n",
    "path = \"./dataset/RolloutMlp_RealXarm7Demo_20250922_171722/RealXarm7Demo_world0_000.rmb/main.rmb.hdf5\"\n",
    "\n",
    "with h5py.File(path, \"r\") as f:\n",
    "    print(\"=== Datasets in file ===\")\n",
    "    for key in f.keys():\n",
    "        arr = f[key]\n",
    "        print(f\"{key:30s} shape={arr.shape}, dtype={arr.dtype}\")\n"
   ]
  },
  {
   "cell_type": "code",
   "execution_count": null,
   "id": "ead9a441",
   "metadata": {},
   "outputs": [],
   "source": [
    "import h5py\n",
    "\n",
    "path = \"./dataset/RolloutMlp_RealXarm7Demo_20250922_171722/RealXarm7Demo_world0_000.rmb/main.rmb.hdf5\"\n",
    "\n",
    "with h5py.File(path, \"r\") as f:\n",
    "    # 全データセット一覧\n",
    "    print(\"Datasets:\", list(f.keys()))\n",
    "\n",
    "    # 例: time を読み込み\n",
    "    time = f[\"time\"][:]\n",
    "    print(\"time shape:\", time.shape)\n",
    "    print(\"time[:10] =\", time[:10])\n",
    "\n",
    "    # measured_eef_pose (x, y, z, qx, qy, qz, qw) の例\n",
    "    pose = f[\"measured_eef_pose\"][:]\n",
    "    print(\"pose shape:\", pose.shape)\n",
    "    print(\"pose[0] =\", pose[0])\n",
    "\n",
    "    measured_eef_pose = f[\"measured_eef_pose\"]\n",
    "    print(\"measured_eef_pose: \", measured_eef_pose[:])\n",
    "\n",
    "\n",
    "    measured_joint_pos = f[\"measured_joint_pos\"]\n",
    "    print(\"measured_joint_pos: \", measured_joint_pos[:])\n",
    "    \n",
    "\n",
    "    measured_gripper_joint_pos = f[\"measured_gripper_joint_pos\"]\n",
    "    print(\"measured_gripper_joint_pos: \", measured_gripper_joint_pos[:])\n",
    "    \n",
    "\n"
   ]
  },
  {
   "cell_type": "code",
   "execution_count": null,
   "id": "60ae3b8b",
   "metadata": {},
   "outputs": [],
   "source": [
    "import matplotlib.pyplot as plt\n",
    "\n",
    "# measured_joint_pos, command_joint_pos は shape (T, 8) の2次元配列を想定\n",
    "num_joints = measured_joint_pos.shape[1]\n",
    "\n",
    "for j in range(num_joints):\n",
    "    plt.figure(figsize=(8, 4))\n",
    "    plt.plot(measured_joint_pos[:, j], label=\"Measured\", linewidth=1.5)\n",
    "    plt.plot(command_joint_pos[:, j], label=\"Command\", linestyle=\"--\", linewidth=1.5)\n",
    "    plt.title(f\"Joint {j}\")\n",
    "    plt.xlabel(\"Time step\")\n",
    "    plt.ylabel(\"Joint Position\")\n",
    "    plt.legend()\n",
    "    plt.grid(True)\n",
    "    plt.show()\n"
   ]
  },
  {
   "cell_type": "code",
   "execution_count": null,
   "id": "21c4078c",
   "metadata": {},
   "outputs": [],
   "source": []
  }
 ],
 "metadata": {
  "kernelspec": {
   "display_name": "robo_env",
   "language": "python",
   "name": "python3"
  },
  "language_info": {
   "codemirror_mode": {
    "name": "ipython",
    "version": 3
   },
   "file_extension": ".py",
   "mimetype": "text/x-python",
   "name": "python",
   "nbconvert_exporter": "python",
   "pygments_lexer": "ipython3",
   "version": "3.10.18"
  }
 },
 "nbformat": 4,
 "nbformat_minor": 5
}
